{
 "metadata": {
  "name": "",
  "signature": "sha256:87a746e0d23bacd2e8656588198881fcc16eefcf66881dee8345cf142fdaa508"
 },
 "nbformat": 3,
 "nbformat_minor": 0,
 "worksheets": [
  {
   "cells": [
    {
     "cell_type": "heading",
     "level": 2,
     "metadata": {},
     "source": [
      "Handwritten digit recognition"
     ]
    },
    {
     "cell_type": "code",
     "collapsed": false,
     "input": [
      "%pylab inline \n",
      "\n",
      "# pandas and numpy\n",
      "# not so much of pandas but for read_csv which is more efficient than numpy.loadtxt\n",
      "import numpy as np\n",
      "import pandas as pd\n",
      "\n",
      "# scikit-learn classifiers and cross validation utils\n",
      "from sklearn.ensemble import RandomForestClassifier\n",
      "from sklearn.svm import SVC\n",
      "from sklearn.grid_search import GridSearchCV\n",
      "\n",
      "# scikit-learn dimension reduction\n",
      "from sklearn.decomposition import PCA\n",
      "\n",
      "# scikit-learn dataset processing utils\n",
      "from sklearn.preprocessing import MinMaxScaler"
     ],
     "language": "python",
     "metadata": {},
     "outputs": [
      {
       "output_type": "stream",
       "stream": "stdout",
       "text": [
        "Populating the interactive namespace from numpy and matplotlib\n"
       ]
      }
     ],
     "prompt_number": 1
    },
    {
     "cell_type": "markdown",
     "metadata": {},
     "source": [
      "Load the training data and have a quick look"
     ]
    },
    {
     "cell_type": "code",
     "collapsed": false,
     "input": [
      "df = pd.read_csv('./train.csv')\n",
      "df = df.astype(float64)"
     ],
     "language": "python",
     "metadata": {},
     "outputs": [],
     "prompt_number": 2
    },
    {
     "cell_type": "code",
     "collapsed": false,
     "input": [
      "df.shape"
     ],
     "language": "python",
     "metadata": {},
     "outputs": [
      {
       "metadata": {},
       "output_type": "pyout",
       "prompt_number": 3,
       "text": [
        "(42000, 785)"
       ]
      }
     ],
     "prompt_number": 3
    },
    {
     "cell_type": "code",
     "collapsed": false,
     "input": [
      "df.ix[1000:1010,200:215]"
     ],
     "language": "python",
     "metadata": {},
     "outputs": [
      {
       "html": [
        "<div style=\"max-height:1000px;max-width:1500px;overflow:auto;\">\n",
        "<table border=\"1\" class=\"dataframe\">\n",
        "  <thead>\n",
        "    <tr style=\"text-align: right;\">\n",
        "      <th></th>\n",
        "      <th>pixel199</th>\n",
        "      <th>pixel200</th>\n",
        "      <th>pixel201</th>\n",
        "      <th>pixel202</th>\n",
        "      <th>pixel203</th>\n",
        "      <th>pixel204</th>\n",
        "      <th>pixel205</th>\n",
        "      <th>pixel206</th>\n",
        "      <th>pixel207</th>\n",
        "      <th>pixel208</th>\n",
        "      <th>pixel209</th>\n",
        "      <th>pixel210</th>\n",
        "      <th>pixel211</th>\n",
        "      <th>pixel212</th>\n",
        "      <th>pixel213</th>\n",
        "    </tr>\n",
        "  </thead>\n",
        "  <tbody>\n",
        "    <tr>\n",
        "      <th>1000</th>\n",
        "      <td> 0</td>\n",
        "      <td> 0</td>\n",
        "      <td> 0</td>\n",
        "      <td>  0</td>\n",
        "      <td>   0</td>\n",
        "      <td>   0</td>\n",
        "      <td>   0</td>\n",
        "      <td>   0</td>\n",
        "      <td>   0</td>\n",
        "      <td>   0</td>\n",
        "      <td> 211</td>\n",
        "      <td> 239</td>\n",
        "      <td>  42</td>\n",
        "      <td>   0</td>\n",
        "      <td>   0</td>\n",
        "    </tr>\n",
        "    <tr>\n",
        "      <th>1001</th>\n",
        "      <td> 0</td>\n",
        "      <td> 0</td>\n",
        "      <td> 0</td>\n",
        "      <td>  0</td>\n",
        "      <td>   0</td>\n",
        "      <td>   0</td>\n",
        "      <td>   0</td>\n",
        "      <td>   0</td>\n",
        "      <td>   0</td>\n",
        "      <td>   0</td>\n",
        "      <td>   0</td>\n",
        "      <td>   0</td>\n",
        "      <td>   0</td>\n",
        "      <td>   0</td>\n",
        "      <td>   0</td>\n",
        "    </tr>\n",
        "    <tr>\n",
        "      <th>1002</th>\n",
        "      <td> 0</td>\n",
        "      <td> 0</td>\n",
        "      <td> 0</td>\n",
        "      <td>  0</td>\n",
        "      <td>   0</td>\n",
        "      <td>   0</td>\n",
        "      <td>   0</td>\n",
        "      <td>   0</td>\n",
        "      <td>   0</td>\n",
        "      <td>   0</td>\n",
        "      <td>  51</td>\n",
        "      <td> 254</td>\n",
        "      <td> 254</td>\n",
        "      <td> 139</td>\n",
        "      <td>   0</td>\n",
        "    </tr>\n",
        "    <tr>\n",
        "      <th>1003</th>\n",
        "      <td> 0</td>\n",
        "      <td> 0</td>\n",
        "      <td> 0</td>\n",
        "      <td>  0</td>\n",
        "      <td>   0</td>\n",
        "      <td>   0</td>\n",
        "      <td>   0</td>\n",
        "      <td> 224</td>\n",
        "      <td> 253</td>\n",
        "      <td> 222</td>\n",
        "      <td>  72</td>\n",
        "      <td>   0</td>\n",
        "      <td>   0</td>\n",
        "      <td>   0</td>\n",
        "      <td>   0</td>\n",
        "    </tr>\n",
        "    <tr>\n",
        "      <th>1004</th>\n",
        "      <td> 0</td>\n",
        "      <td> 0</td>\n",
        "      <td> 0</td>\n",
        "      <td>  0</td>\n",
        "      <td>   0</td>\n",
        "      <td>   0</td>\n",
        "      <td>   0</td>\n",
        "      <td>   0</td>\n",
        "      <td>   2</td>\n",
        "      <td> 132</td>\n",
        "      <td> 254</td>\n",
        "      <td> 215</td>\n",
        "      <td>  55</td>\n",
        "      <td>   0</td>\n",
        "      <td>   0</td>\n",
        "    </tr>\n",
        "    <tr>\n",
        "      <th>1005</th>\n",
        "      <td> 0</td>\n",
        "      <td> 0</td>\n",
        "      <td> 0</td>\n",
        "      <td> 46</td>\n",
        "      <td> 221</td>\n",
        "      <td> 253</td>\n",
        "      <td> 253</td>\n",
        "      <td> 253</td>\n",
        "      <td> 183</td>\n",
        "      <td> 253</td>\n",
        "      <td> 253</td>\n",
        "      <td> 253</td>\n",
        "      <td> 253</td>\n",
        "      <td> 228</td>\n",
        "      <td>   0</td>\n",
        "    </tr>\n",
        "    <tr>\n",
        "      <th>1006</th>\n",
        "      <td> 0</td>\n",
        "      <td> 0</td>\n",
        "      <td> 0</td>\n",
        "      <td>  0</td>\n",
        "      <td>   0</td>\n",
        "      <td>   0</td>\n",
        "      <td>   0</td>\n",
        "      <td>   0</td>\n",
        "      <td>  12</td>\n",
        "      <td> 171</td>\n",
        "      <td> 252</td>\n",
        "      <td> 253</td>\n",
        "      <td> 252</td>\n",
        "      <td> 252</td>\n",
        "      <td> 230</td>\n",
        "    </tr>\n",
        "    <tr>\n",
        "      <th>1007</th>\n",
        "      <td> 0</td>\n",
        "      <td> 0</td>\n",
        "      <td> 0</td>\n",
        "      <td>  0</td>\n",
        "      <td>   0</td>\n",
        "      <td>   0</td>\n",
        "      <td>   0</td>\n",
        "      <td>   0</td>\n",
        "      <td>   0</td>\n",
        "      <td>   0</td>\n",
        "      <td>   0</td>\n",
        "      <td>   0</td>\n",
        "      <td>   0</td>\n",
        "      <td>  34</td>\n",
        "      <td>  82</td>\n",
        "    </tr>\n",
        "    <tr>\n",
        "      <th>1008</th>\n",
        "      <td> 0</td>\n",
        "      <td> 0</td>\n",
        "      <td> 0</td>\n",
        "      <td>  0</td>\n",
        "      <td>   0</td>\n",
        "      <td>   0</td>\n",
        "      <td>   0</td>\n",
        "      <td>   0</td>\n",
        "      <td>   0</td>\n",
        "      <td>   0</td>\n",
        "      <td>  10</td>\n",
        "      <td>  29</td>\n",
        "      <td>  41</td>\n",
        "      <td> 141</td>\n",
        "      <td> 141</td>\n",
        "    </tr>\n",
        "    <tr>\n",
        "      <th>1009</th>\n",
        "      <td> 0</td>\n",
        "      <td> 0</td>\n",
        "      <td> 0</td>\n",
        "      <td>  0</td>\n",
        "      <td>   0</td>\n",
        "      <td>   0</td>\n",
        "      <td> 241</td>\n",
        "      <td> 252</td>\n",
        "      <td> 106</td>\n",
        "      <td>   0</td>\n",
        "      <td>   0</td>\n",
        "      <td>   0</td>\n",
        "      <td>   0</td>\n",
        "      <td>   0</td>\n",
        "      <td> 253</td>\n",
        "    </tr>\n",
        "    <tr>\n",
        "      <th>1010</th>\n",
        "      <td> 0</td>\n",
        "      <td> 0</td>\n",
        "      <td> 0</td>\n",
        "      <td>  0</td>\n",
        "      <td>   0</td>\n",
        "      <td>   0</td>\n",
        "      <td>   0</td>\n",
        "      <td>   0</td>\n",
        "      <td>   0</td>\n",
        "      <td>   0</td>\n",
        "      <td>   0</td>\n",
        "      <td>   0</td>\n",
        "      <td>   0</td>\n",
        "      <td>  57</td>\n",
        "      <td> 250</td>\n",
        "    </tr>\n",
        "  </tbody>\n",
        "</table>\n",
        "</div>"
       ],
       "metadata": {},
       "output_type": "pyout",
       "prompt_number": 4,
       "text": [
        "      pixel199  pixel200  pixel201  pixel202  pixel203  pixel204  pixel205  \\\n",
        "1000         0         0         0         0         0         0         0   \n",
        "1001         0         0         0         0         0         0         0   \n",
        "1002         0         0         0         0         0         0         0   \n",
        "1003         0         0         0         0         0         0         0   \n",
        "1004         0         0         0         0         0         0         0   \n",
        "1005         0         0         0        46       221       253       253   \n",
        "1006         0         0         0         0         0         0         0   \n",
        "1007         0         0         0         0         0         0         0   \n",
        "1008         0         0         0         0         0         0         0   \n",
        "1009         0         0         0         0         0         0       241   \n",
        "1010         0         0         0         0         0         0         0   \n",
        "\n",
        "      pixel206  pixel207  pixel208  pixel209  pixel210  pixel211  pixel212  \\\n",
        "1000         0         0         0       211       239        42         0   \n",
        "1001         0         0         0         0         0         0         0   \n",
        "1002         0         0         0        51       254       254       139   \n",
        "1003       224       253       222        72         0         0         0   \n",
        "1004         0         2       132       254       215        55         0   \n",
        "1005       253       183       253       253       253       253       228   \n",
        "1006         0        12       171       252       253       252       252   \n",
        "1007         0         0         0         0         0         0        34   \n",
        "1008         0         0         0        10        29        41       141   \n",
        "1009       252       106         0         0         0         0         0   \n",
        "1010         0         0         0         0         0         0        57   \n",
        "\n",
        "      pixel213  \n",
        "1000         0  \n",
        "1001         0  \n",
        "1002         0  \n",
        "1003         0  \n",
        "1004         0  \n",
        "1005         0  \n",
        "1006       230  \n",
        "1007        82  \n",
        "1008       141  \n",
        "1009       253  \n",
        "1010       250  "
       ]
      }
     ],
     "prompt_number": 4
    },
    {
     "cell_type": "code",
     "collapsed": false,
     "input": [
      "f, (ax1, ax2, ax3, ax4, ax5) = subplots(ncols=5)\n",
      "\n",
      "imsize = (28, 28)\n",
      "ax1.matshow(np.reshape(df.ix[35023,1:], imsize), cmap='gray_r')\n",
      "ax2.matshow(np.reshape(df.ix[1008,1:], imsize), cmap='gray_r')\n",
      "ax3.matshow(np.reshape(df.ix[1009,1:], imsize), cmap='gray_r')\n",
      "ax4.matshow(np.reshape(df.ix[1012,1:], imsize), cmap='gray_r')\n",
      "ax5.matshow(np.reshape(df.ix[1013,1:], imsize), cmap='gray_r')\n",
      "\n",
      "f.tight_layout();"
     ],
     "language": "python",
     "metadata": {},
     "outputs": [
      {
       "metadata": {},
       "output_type": "display_data",
       "png": "[encoded data removed]",
       "text": [
        "<matplotlib.figure.Figure at 0x10df31f50>"
       ]
      }
     ],
     "prompt_number": 30
    },
    {
     "cell_type": "heading",
     "level": 3,
     "metadata": {},
     "source": [
      "SVM"
     ]
    },
    {
     "cell_type": "markdown",
     "metadata": {},
     "source": [
      "Create scaler and PCA objects"
     ]
    },
    {
     "cell_type": "code",
     "collapsed": false,
     "input": [
      "min_max_scaler = MinMaxScaler()\n",
      "pca = PCA(n_components=80)"
     ],
     "language": "python",
     "metadata": {},
     "outputs": [],
     "prompt_number": 6
    },
    {
     "cell_type": "markdown",
     "metadata": {},
     "source": [
      "Subset data for training, scale and apply PCA"
     ]
    },
    {
     "cell_type": "code",
     "collapsed": false,
     "input": [
      "X = min_max_scaler.fit_transform(df.ix[:9999,1:])\n",
      "X = pca.fit_transform(X)\n",
      "\n",
      "y = df.ix[:9999,0]"
     ],
     "language": "python",
     "metadata": {},
     "outputs": [],
     "prompt_number": 7
    },
    {
     "cell_type": "code",
     "collapsed": false,
     "input": [
      "tuned_parameters = [{'kernel' : ['rbf'], 'gamma': [0.1, 1e-2, 1e-3], 'C': [10, 100, 1000]}, \n",
      "                    {'kernel' : ['poly'], 'degree' : [5, 9], 'C' : [1, 10]}]\n",
      "\n",
      "svm = GridSearchCV( SVC(), tuned_parameters, cv=3, verbose=2 ).fit(X, y)"
     ],
     "language": "python",
     "metadata": {},
     "outputs": [
      {
       "output_type": "stream",
       "stream": "stdout",
       "text": [
        "Fitting 3 folds for each of 13 candidates, totalling 39 fits\n",
        "[CV] kernel=rbf, C=10, gamma=0.1 .....................................\n",
        "[CV] ............................ kernel=rbf, C=10, gamma=0.1 -  11.6s"
       ]
      },
      {
       "output_type": "stream",
       "stream": "stdout",
       "text": [
        "\n",
        "[CV] kernel=rbf, C=10, gamma=0.1 .....................................\n",
        "[CV] ............................ kernel=rbf, C=10, gamma=0.1 -  11.4s"
       ]
      },
      {
       "output_type": "stream",
       "stream": "stdout",
       "text": [
        "\n",
        "[CV] kernel=rbf, C=10, gamma=0.1 .....................................\n",
        "[CV] ............................ kernel=rbf, C=10, gamma=0.1 -  12.0s"
       ]
      },
      {
       "output_type": "stream",
       "stream": "stdout",
       "text": [
        "\n",
        "[CV] kernel=rbf, C=10, gamma=0.01 ....................................\n",
        "[CV] ........................... kernel=rbf, C=10, gamma=0.01 -   2.6s"
       ]
      },
      {
       "output_type": "stream",
       "stream": "stdout",
       "text": [
        "\n",
        "[CV] kernel=rbf, C=10, gamma=0.01 ....................................\n",
        "[CV] ........................... kernel=rbf, C=10, gamma=0.01 -   2.8s"
       ]
      },
      {
       "output_type": "stream",
       "stream": "stdout",
       "text": [
        "\n",
        "[CV] kernel=rbf, C=10, gamma=0.01 ....................................\n",
        "[CV] ........................... kernel=rbf, C=10, gamma=0.01 -   2.6s"
       ]
      },
      {
       "output_type": "stream",
       "stream": "stdout",
       "text": [
        "\n",
        "[CV] kernel=rbf, C=10, gamma=0.001 ...................................\n",
        "[CV] .......................... kernel=rbf, C=10, gamma=0.001 -   2.5s"
       ]
      },
      {
       "output_type": "stream",
       "stream": "stdout",
       "text": [
        "\n",
        "[CV] kernel=rbf, C=10, gamma=0.001 ...................................\n",
        "[CV] .......................... kernel=rbf, C=10, gamma=0.001 -   2.3s"
       ]
      },
      {
       "output_type": "stream",
       "stream": "stdout",
       "text": [
        "\n",
        "[CV] kernel=rbf, C=10, gamma=0.001 ...................................\n",
        "[CV] .......................... kernel=rbf, C=10, gamma=0.001 -   2.3s"
       ]
      },
      {
       "output_type": "stream",
       "stream": "stdout",
       "text": [
        "\n",
        "[CV] kernel=rbf, C=100, gamma=0.1 ....................................\n",
        "[CV] ........................... kernel=rbf, C=100, gamma=0.1 -  22.5s"
       ]
      },
      {
       "output_type": "stream",
       "stream": "stdout",
       "text": [
        "\n",
        "[CV] kernel=rbf, C=100, gamma=0.1 ....................................\n",
        "[CV] ........................... kernel=rbf, C=100, gamma=0.1 -  11.4s"
       ]
      },
      {
       "output_type": "stream",
       "stream": "stdout",
       "text": [
        "\n",
        "[CV] kernel=rbf, C=100, gamma=0.1 ....................................\n",
        "[CV] ........................... kernel=rbf, C=100, gamma=0.1 -  11.4s"
       ]
      },
      {
       "output_type": "stream",
       "stream": "stdout",
       "text": [
        "\n",
        "[CV] kernel=rbf, C=100, gamma=0.01 ...................................\n",
        "[CV] .......................... kernel=rbf, C=100, gamma=0.01 -   2.2s"
       ]
      },
      {
       "output_type": "stream",
       "stream": "stdout",
       "text": [
        "\n",
        "[CV] kernel=rbf, C=100, gamma=0.01 ...................................\n",
        "[CV] .......................... kernel=rbf, C=100, gamma=0.01 -   2.2s"
       ]
      },
      {
       "output_type": "stream",
       "stream": "stdout",
       "text": [
        "\n",
        "[CV] kernel=rbf, C=100, gamma=0.01 ...................................\n",
        "[CV] .......................... kernel=rbf, C=100, gamma=0.01 -   3.5s"
       ]
      },
      {
       "output_type": "stream",
       "stream": "stdout",
       "text": [
        "\n",
        "[CV] kernel=rbf, C=100, gamma=0.001 ..................................\n",
        "[CV] ......................... kernel=rbf, C=100, gamma=0.001 -   3.8s"
       ]
      },
      {
       "output_type": "stream",
       "stream": "stdout",
       "text": [
        "\n",
        "[CV] kernel=rbf, C=100, gamma=0.001 ..................................\n",
        "[CV] ......................... kernel=rbf, C=100, gamma=0.001 -   3.1s"
       ]
      },
      {
       "output_type": "stream",
       "stream": "stdout",
       "text": [
        "\n",
        "[CV] kernel=rbf, C=100, gamma=0.001 ..................................\n",
        "[CV] ......................... kernel=rbf, C=100, gamma=0.001 -   3.1s"
       ]
      },
      {
       "output_type": "stream",
       "stream": "stdout",
       "text": [
        "\n",
        "[CV] kernel=rbf, C=1000, gamma=0.1 ...................................\n",
        "[CV] .......................... kernel=rbf, C=1000, gamma=0.1 -  16.5s"
       ]
      },
      {
       "output_type": "stream",
       "stream": "stdout",
       "text": [
        "\n",
        "[CV] kernel=rbf, C=1000, gamma=0.1 ...................................\n",
        "[CV] .......................... kernel=rbf, C=1000, gamma=0.1 -  17.7s"
       ]
      },
      {
       "output_type": "stream",
       "stream": "stdout",
       "text": [
        "\n",
        "[CV] kernel=rbf, C=1000, gamma=0.1 ...................................\n",
        "[CV] .......................... kernel=rbf, C=1000, gamma=0.1 -  16.0s"
       ]
      },
      {
       "output_type": "stream",
       "stream": "stdout",
       "text": [
        "\n",
        "[CV] kernel=rbf, C=1000, gamma=0.01 ..................................\n",
        "[CV] ......................... kernel=rbf, C=1000, gamma=0.01 -   2.7s"
       ]
      },
      {
       "output_type": "stream",
       "stream": "stdout",
       "text": [
        "\n",
        "[CV] kernel=rbf, C=1000, gamma=0.01 ..................................\n",
        "[CV] ......................... kernel=rbf, C=1000, gamma=0.01 -   2.7s"
       ]
      },
      {
       "output_type": "stream",
       "stream": "stdout",
       "text": [
        "\n",
        "[CV] kernel=rbf, C=1000, gamma=0.01 ..................................\n",
        "[CV] ......................... kernel=rbf, C=1000, gamma=0.01 -   2.3s"
       ]
      },
      {
       "output_type": "stream",
       "stream": "stdout",
       "text": [
        "\n",
        "[CV] kernel=rbf, C=1000, gamma=0.001 .................................\n",
        "[CV] ........................ kernel=rbf, C=1000, gamma=0.001 -   2.1s"
       ]
      },
      {
       "output_type": "stream",
       "stream": "stdout",
       "text": [
        "\n",
        "[CV] kernel=rbf, C=1000, gamma=0.001 .................................\n",
        "[CV] ........................ kernel=rbf, C=1000, gamma=0.001 -   2.1s"
       ]
      },
      {
       "output_type": "stream",
       "stream": "stdout",
       "text": [
        "\n",
        "[CV] kernel=rbf, C=1000, gamma=0.001 .................................\n",
        "[CV] ........................ kernel=rbf, C=1000, gamma=0.001 -   2.1s"
       ]
      },
      {
       "output_type": "stream",
       "stream": "stdout",
       "text": [
        "\n",
        "[CV] kernel=poly, C=1, degree=5 ......................................\n",
        "[CV] ............................. kernel=poly, C=1, degree=5 -   9.0s"
       ]
      },
      {
       "output_type": "stream",
       "stream": "stdout",
       "text": [
        "\n",
        "[CV] kernel=poly, C=1, degree=5 ......................................\n",
        "[CV] ............................. kernel=poly, C=1, degree=5 -   8.9s"
       ]
      },
      {
       "output_type": "stream",
       "stream": "stdout",
       "text": [
        "\n",
        "[CV] kernel=poly, C=1, degree=5 ......................................\n",
        "[CV] ............................. kernel=poly, C=1, degree=5 -   9.0s"
       ]
      },
      {
       "output_type": "stream",
       "stream": "stdout",
       "text": [
        "\n",
        "[CV] kernel=poly, C=1, degree=9 ......................................\n",
        "[CV] ............................. kernel=poly, C=1, degree=9 -  10.5s"
       ]
      },
      {
       "output_type": "stream",
       "stream": "stdout",
       "text": [
        "\n",
        "[CV] kernel=poly, C=1, degree=9 ......................................\n",
        "[CV] ............................. kernel=poly, C=1, degree=9 -  20.9s"
       ]
      },
      {
       "output_type": "stream",
       "stream": "stdout",
       "text": [
        "\n",
        "[CV] kernel=poly, C=1, degree=9 ......................................\n",
        "[CV] ............................. kernel=poly, C=1, degree=9 -  12.6s"
       ]
      },
      {
       "output_type": "stream",
       "stream": "stdout",
       "text": [
        "\n",
        "[CV] kernel=poly, C=10, degree=5 .....................................\n",
        "[CV] ............................ kernel=poly, C=10, degree=5 -   7.5s"
       ]
      },
      {
       "output_type": "stream",
       "stream": "stdout",
       "text": [
        "\n",
        "[CV] kernel=poly, C=10, degree=5 .....................................\n",
        "[CV] ............................ kernel=poly, C=10, degree=5 -   6.6s"
       ]
      },
      {
       "output_type": "stream",
       "stream": "stdout",
       "text": [
        "\n",
        "[CV] kernel=poly, C=10, degree=5 .....................................\n",
        "[CV] ............................ kernel=poly, C=10, degree=5 -   9.9s"
       ]
      },
      {
       "output_type": "stream",
       "stream": "stdout",
       "text": [
        "\n",
        "[CV] kernel=poly, C=10, degree=9 .....................................\n",
        "[CV] ............................ kernel=poly, C=10, degree=9 -  13.0s"
       ]
      },
      {
       "output_type": "stream",
       "stream": "stdout",
       "text": [
        "\n",
        "[CV] kernel=poly, C=10, degree=9 .....................................\n",
        "[CV] ............................ kernel=poly, C=10, degree=9 -  12.6s"
       ]
      },
      {
       "output_type": "stream",
       "stream": "stdout",
       "text": [
        "\n",
        "[CV] kernel=poly, C=10, degree=9 .....................................\n",
        "[CV] ............................ kernel=poly, C=10, degree=9 -  12.4s"
       ]
      },
      {
       "output_type": "stream",
       "stream": "stderr",
       "text": [
        "[Parallel(n_jobs=1)]: Done   1 jobs       | elapsed:   11.6s\n",
        "[Parallel(n_jobs=1)]: Done  39 out of  39 | elapsed:  5.2min finished\n"
       ]
      },
      {
       "output_type": "stream",
       "stream": "stdout",
       "text": [
        "\n"
       ]
      }
     ],
     "prompt_number": 9
    },
    {
     "cell_type": "code",
     "collapsed": false,
     "input": [
      "svm.best_estimator_"
     ],
     "language": "python",
     "metadata": {},
     "outputs": [
      {
       "metadata": {},
       "output_type": "pyout",
       "prompt_number": 10,
       "text": [
        "SVC(C=100, cache_size=200, class_weight=None, coef0=0.0, degree=3, gamma=0.01,\n",
        "  kernel='rbf', max_iter=-1, probability=False, random_state=None,\n",
        "  shrinking=True, tol=0.001, verbose=False)"
       ]
      }
     ],
     "prompt_number": 10
    },
    {
     "cell_type": "markdown",
     "metadata": {},
     "source": [
      "Test it to some subset of the data not included in the training"
     ]
    },
    {
     "cell_type": "code",
     "collapsed": false,
     "input": [
      "Xt = min_max_scaler.transform(df.ix[35000:,1:])\n",
      "yt = df.ix[35000:,0]\n",
      "\n",
      "yp = svm.predict(pca.transform(Xt))"
     ],
     "language": "python",
     "metadata": {},
     "outputs": [],
     "prompt_number": 11
    },
    {
     "cell_type": "code",
     "collapsed": false,
     "input": [
      "print 'prediction accuracy: %.4f' % (1./len(yt) * sum( yp == yt ))"
     ],
     "language": "python",
     "metadata": {},
     "outputs": [
      {
       "output_type": "stream",
       "stream": "stdout",
       "text": [
        "prediction accuracy: 0.9681\n"
       ]
      }
     ],
     "prompt_number": 12
    },
    {
     "cell_type": "code",
     "collapsed": false,
     "input": [
      "print yp[:30].astype(int)"
     ],
     "language": "python",
     "metadata": {},
     "outputs": [
      {
       "output_type": "stream",
       "stream": "stdout",
       "text": [
        "[2 2 5 4 7 6 0 6 9 5 4 8 5 2 6 2 3 9 3 9 4 0 4 5 2 0 6 5 5 0]\n"
       ]
      }
     ],
     "prompt_number": 13
    },
    {
     "cell_type": "code",
     "collapsed": false,
     "input": [
      "print yt[:30].values.astype(int)"
     ],
     "language": "python",
     "metadata": {},
     "outputs": [
      {
       "output_type": "stream",
       "stream": "stdout",
       "text": [
        "[2 2 5 4 7 6 0 6 4 5 4 8 5 2 6 2 3 9 3 9 4 0 4 5 2 0 6 5 5 0]\n"
       ]
      }
     ],
     "prompt_number": 14
    },
    {
     "cell_type": "heading",
     "level": 3,
     "metadata": {},
     "source": [
      "RandomForest"
     ]
    },
    {
     "cell_type": "code",
     "collapsed": false,
     "input": [
      "min_max_scaler = MinMaxScaler()\n",
      "pca = PCA(n_components=80)"
     ],
     "language": "python",
     "metadata": {},
     "outputs": [],
     "prompt_number": 15
    },
    {
     "cell_type": "code",
     "collapsed": false,
     "input": [
      "X = min_max_scaler.fit_transform(df.ix[:9999,1:])\n",
      "X = pca.fit_transform(X)\n",
      "\n",
      "y = df.ix[:9999,0]"
     ],
     "language": "python",
     "metadata": {},
     "outputs": [],
     "prompt_number": 17
    },
    {
     "cell_type": "code",
     "collapsed": false,
     "input": [
      "tuned_parameters = [{'max_features': ['sqrt', 'log2'], 'n_estimators': [1000, 1500]}]\n",
      "\n",
      "rf = GridSearchCV(RandomForestClassifier(min_samples_split=1, \n",
      "                                          compute_importances=False, \n",
      "                                          n_jobs=-1), \n",
      "                  tuned_parameters, \n",
      "                  cv=3, \n",
      "                  verbose=2).fit(X, y)"
     ],
     "language": "python",
     "metadata": {},
     "outputs": [
      {
       "output_type": "stream",
       "stream": "stdout",
       "text": [
        "Fitting 3 folds for each of 4 candidates, totalling 12 fits\n",
        "[CV] max_features=sqrt, n_estimators=1000 ............................\n",
        "[CV] ................... max_features=sqrt, n_estimators=1000 -  19.3s"
       ]
      },
      {
       "output_type": "stream",
       "stream": "stderr",
       "text": [
        "/Library/Python/2.7/site-packages/scikit_learn-0.15.0b1-py2.7-macosx-10.9-intel.egg/sklearn/ensemble/forest.py:775: DeprecationWarning: Setting compute_importances is no longer required as version 0.14. Variable importances are now computed on the fly when accessing the feature_importances_ attribute. This parameter will be removed in 0.16.\n",
        "  DeprecationWarning)\n",
        "[Parallel(n_jobs=1)]: Done   1 jobs       | elapsed:   19.3s\n"
       ]
      },
      {
       "output_type": "stream",
       "stream": "stdout",
       "text": [
        "\n",
        "[CV] max_features=sqrt, n_estimators=1000 ............................"
       ]
      },
      {
       "output_type": "stream",
       "stream": "stdout",
       "text": [
        "\n",
        "[CV] ................... max_features=sqrt, n_estimators=1000 -  20.9s"
       ]
      },
      {
       "output_type": "stream",
       "stream": "stdout",
       "text": [
        "\n",
        "[CV] max_features=sqrt, n_estimators=1000 ............................"
       ]
      },
      {
       "output_type": "stream",
       "stream": "stdout",
       "text": [
        "\n",
        "[CV] ................... max_features=sqrt, n_estimators=1000 -  18.8s"
       ]
      },
      {
       "output_type": "stream",
       "stream": "stdout",
       "text": [
        "\n",
        "[CV] max_features=sqrt, n_estimators=1500 ............................"
       ]
      },
      {
       "output_type": "stream",
       "stream": "stdout",
       "text": [
        "\n",
        "[CV] ................... max_features=sqrt, n_estimators=1500 -  30.8s"
       ]
      },
      {
       "output_type": "stream",
       "stream": "stdout",
       "text": [
        "\n",
        "[CV] max_features=sqrt, n_estimators=1500 ............................"
       ]
      },
      {
       "output_type": "stream",
       "stream": "stdout",
       "text": [
        "\n",
        "[CV] ................... max_features=sqrt, n_estimators=1500 -  35.6s"
       ]
      },
      {
       "output_type": "stream",
       "stream": "stdout",
       "text": [
        "\n",
        "[CV] max_features=sqrt, n_estimators=1500 ............................"
       ]
      },
      {
       "output_type": "stream",
       "stream": "stdout",
       "text": [
        "\n",
        "[CV] ................... max_features=sqrt, n_estimators=1500 -  30.5s"
       ]
      },
      {
       "output_type": "stream",
       "stream": "stdout",
       "text": [
        "\n",
        "[CV] max_features=log2, n_estimators=1000 ............................"
       ]
      },
      {
       "output_type": "stream",
       "stream": "stdout",
       "text": [
        "\n",
        "[CV] ................... max_features=log2, n_estimators=1000 -  18.8s"
       ]
      },
      {
       "output_type": "stream",
       "stream": "stdout",
       "text": [
        "\n",
        "[CV] max_features=log2, n_estimators=1000 ............................"
       ]
      },
      {
       "output_type": "stream",
       "stream": "stdout",
       "text": [
        "\n",
        "[CV] ................... max_features=log2, n_estimators=1000 -  18.3s"
       ]
      },
      {
       "output_type": "stream",
       "stream": "stdout",
       "text": [
        "\n",
        "[CV] max_features=log2, n_estimators=1000 ............................"
       ]
      },
      {
       "output_type": "stream",
       "stream": "stdout",
       "text": [
        "\n",
        "[CV] ................... max_features=log2, n_estimators=1000 -  15.1s"
       ]
      },
      {
       "output_type": "stream",
       "stream": "stdout",
       "text": [
        "\n",
        "[CV] max_features=log2, n_estimators=1500 ............................"
       ]
      },
      {
       "output_type": "stream",
       "stream": "stdout",
       "text": [
        "\n",
        "[CV] ................... max_features=log2, n_estimators=1500 -  26.4s"
       ]
      },
      {
       "output_type": "stream",
       "stream": "stdout",
       "text": [
        "\n",
        "[CV] max_features=log2, n_estimators=1500 ............................"
       ]
      },
      {
       "output_type": "stream",
       "stream": "stdout",
       "text": [
        "\n",
        "[CV] ................... max_features=log2, n_estimators=1500 -  26.3s"
       ]
      },
      {
       "output_type": "stream",
       "stream": "stdout",
       "text": [
        "\n",
        "[CV] max_features=log2, n_estimators=1500 ............................"
       ]
      },
      {
       "output_type": "stream",
       "stream": "stdout",
       "text": [
        "\n",
        "[CV] ................... max_features=log2, n_estimators=1500 -  24.8s"
       ]
      },
      {
       "output_type": "stream",
       "stream": "stdout",
       "text": [
        "\n"
       ]
      },
      {
       "output_type": "stream",
       "stream": "stderr",
       "text": [
        "[Parallel(n_jobs=1)]: Done  12 out of  12 | elapsed:  4.8min finished\n"
       ]
      }
     ],
     "prompt_number": 18
    },
    {
     "cell_type": "code",
     "collapsed": false,
     "input": [
      "Xt = min_max_scaler.transform(df.ix[35000:,1:])\n",
      "yt = df.ix[35000:,0]\n",
      "\n",
      "yp = rf.predict(pca.transform(Xt))"
     ],
     "language": "python",
     "metadata": {},
     "outputs": [],
     "prompt_number": 20
    },
    {
     "cell_type": "code",
     "collapsed": false,
     "input": [
      "print 'prediction accuracy: %.4f' % (1./len(yt) * sum( yp == yt ))"
     ],
     "language": "python",
     "metadata": {},
     "outputs": [
      {
       "output_type": "stream",
       "stream": "stdout",
       "text": [
        "prediction accuracy: 0.9424\n"
       ]
      }
     ],
     "prompt_number": 21
    },
    {
     "cell_type": "code",
     "collapsed": false,
     "input": [
      "print yp[:30].astype(int)"
     ],
     "language": "python",
     "metadata": {},
     "outputs": [
      {
       "output_type": "stream",
       "stream": "stdout",
       "text": [
        "[2 2 5 4 7 6 6 6 9 5 4 8 5 2 6 2 3 9 3 9 4 0 4 8 2 0 6 5 5 0]\n"
       ]
      }
     ],
     "prompt_number": 22
    },
    {
     "cell_type": "code",
     "collapsed": false,
     "input": [
      "print yt[:30].values.astype(int)"
     ],
     "language": "python",
     "metadata": {},
     "outputs": [
      {
       "output_type": "stream",
       "stream": "stdout",
       "text": [
        "[2 2 5 4 7 6 0 6 4 5 4 8 5 2 6 2 3 9 3 9 4 0 4 5 2 0 6 5 5 0]\n"
       ]
      }
     ],
     "prompt_number": 23
    },
    {
     "cell_type": "heading",
     "level": 3,
     "metadata": {},
     "source": [
      "Submission attempts"
     ]
    },
    {
     "cell_type": "markdown",
     "metadata": {},
     "source": [
      "* First attempt: split data into three, build an SVM for each, majority voting for end prediction --> Kaggle score 0.97429"
     ]
    },
    {
     "cell_type": "code",
     "collapsed": false,
     "input": [
      "scalers = []\n",
      "pca_xfrms = []\n",
      "clfs = []\n",
      "\n",
      "# compute indexes where to split the data\n",
      "ixs = np.arange(df.shape[0])\n",
      "splits = np.split(ixs, [14000, 28000])\n",
      "\n",
      "tuned_parameters = [{'gamma': [0.1, 1e-2, 1e-3], 'C': [10, 100, 1000]}]\n",
      "\n",
      "# use all data for training\n",
      "for s in splits:\n",
      "    min_max_scaler = MinMaxScaler()\n",
      "    pca = PCA(n_components=80)\n",
      "\n",
      "    # get training subset\n",
      "    X = df.ix[s,1:].copy()\n",
      "    y = df.ix[s,0].copy()\n",
      "    \n",
      "    # all the transformations\n",
      "    X = min_max_scaler.fit_transform(X)\n",
      "    X = pca.fit_transform(X)\n",
      "    \n",
      "    # train the classifier\n",
      "    svm = GridSearchCV( SVC(), tuned_parameters, cv=3, verbose=1 ).fit(X, y)\n",
      "    \n",
      "    # store scaler, PCA transformer, and SVM classifier for this subset\n",
      "    scalers.append(min_max_scaler)\n",
      "    pca_xfrms.append(pca)\n",
      "    clfs.append(svm)"
     ],
     "language": "python",
     "metadata": {},
     "outputs": [
      {
       "output_type": "stream",
       "stream": "stderr",
       "text": [
        "[Parallel(n_jobs=1)]: Done   1 jobs       | elapsed:   34.9s\n",
        "[Parallel(n_jobs=1)]: Done  27 out of  27 | elapsed: 11.0min finished\n"
       ]
      },
      {
       "output_type": "stream",
       "stream": "stdout",
       "text": [
        "Fitting 3 folds for each of 9 candidates, totalling 27 fits\n",
        "Fitting 3 folds for each of 9 candidates, totalling 27 fits"
       ]
      },
      {
       "output_type": "stream",
       "stream": "stderr",
       "text": [
        "[Parallel(n_jobs=1)]: Done   1 jobs       | elapsed:   25.9s\n",
        "[Parallel(n_jobs=1)]: Done  27 out of  27 | elapsed:  5.1min finished\n"
       ]
      },
      {
       "output_type": "stream",
       "stream": "stdout",
       "text": [
        "\n",
        "Fitting 3 folds for each of 9 candidates, totalling 27 fits"
       ]
      },
      {
       "output_type": "stream",
       "stream": "stderr",
       "text": [
        "[Parallel(n_jobs=1)]: Done   1 jobs       | elapsed:   26.3s\n",
        "[Parallel(n_jobs=1)]: Done  27 out of  27 | elapsed:  9.2min finished\n"
       ]
      },
      {
       "output_type": "stream",
       "stream": "stdout",
       "text": [
        "\n"
       ]
      }
     ],
     "prompt_number": 24
    },
    {
     "cell_type": "code",
     "collapsed": false,
     "input": [
      "df2 = pd.read_csv('./test.csv')\n",
      "df2 = df2.astype(float64)"
     ],
     "language": "python",
     "metadata": {},
     "outputs": [],
     "prompt_number": 25
    },
    {
     "cell_type": "code",
     "collapsed": false,
     "input": [
      "preds = np.zeros((len(clfs), df2.shape[0]))\n",
      "\n",
      "i = 0\n",
      "for scaler, xfrm, clf in zip(scalers, pca_xfrms, clfs):\n",
      "    Xt = df2.copy()\n",
      "    Xt = scaler.transform(Xt)\n",
      "    preds[i] = clf.predict(xfrm.transform(Xt))\n",
      "    \n",
      "    i += 1\n",
      "    \n",
      "total_pred = [np.bincount(x).argmax() for x in preds.T.astype(int)]"
     ],
     "language": "python",
     "metadata": {},
     "outputs": [],
     "prompt_number": 26
    },
    {
     "cell_type": "code",
     "collapsed": false,
     "input": [
      "with open('./submission.csv', 'w') as of:\n",
      "    of.write(\"ImageId,label\\n\")\n",
      "    for x in enumerate(total_pred, start=1):\n",
      "        of.write(\"%s,%s\\n\" % x)"
     ],
     "language": "python",
     "metadata": {},
     "outputs": [],
     "prompt_number": 27
    },
    {
     "cell_type": "code",
     "collapsed": false,
     "input": [],
     "language": "python",
     "metadata": {},
     "outputs": []
    }
   ],
   "metadata": {}
  }
 ]
}